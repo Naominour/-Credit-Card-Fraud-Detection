{
 "cells": [
  {
   "cell_type": "markdown",
   "id": "cb7124d4",
   "metadata": {
    "papermill": {
     "duration": 0.006084,
     "end_time": "2023-08-28T16:35:56.756030",
     "exception": false,
     "start_time": "2023-08-28T16:35:56.749946",
     "status": "completed"
    },
    "tags": []
   },
   "source": [
    "![](https://assets-global.website-files.com/5fbe376a36d4106214faaf3c/62200f9fbd736d0bb2002721_20220302-Credit%20Card%20Fraud%20Detection_Blog%20Thumbnail%20Image.png)"
   ]
  },
  {
   "cell_type": "markdown",
   "id": "05161cac",
   "metadata": {
    "papermill": {
     "duration": 0.004801,
     "end_time": "2023-08-28T16:35:56.766286",
     "exception": false,
     "start_time": "2023-08-28T16:35:56.761485",
     "status": "completed"
    },
    "tags": []
   },
   "source": [
    "### Credit Card Fraud Detection\n",
    "<p align=\"justify\">\n",
    "In this code, we address the challenge of handling imbalanced datasets and building a predictive model for credit card fraud detection. Imbalanced datasets, where one class greatly outnumbers the other, can lead to biased model performance. To tackle this issue, we employ the technique of random under-sampling, which aims to balance the classes while maintaining the integrity of the dataset.</p>\n",
    "Our goal is to create a logistic regression model that can accurately classify fraudulent credit card transactions. To evaluate the model's performance, we utilise the ROC curve and calculate the area under the ROC curve (AUC), which serves as a measure of the model's predictive capability.\n",
    "\n"
   ]
  },
  {
   "cell_type": "markdown",
   "id": "62a510d0",
   "metadata": {
    "papermill": {
     "duration": 0.004781,
     "end_time": "2023-08-28T16:35:56.776177",
     "exception": false,
     "start_time": "2023-08-28T16:35:56.771396",
     "status": "completed"
    },
    "tags": []
   },
   "source": [
    "### Approaches:\n",
    "\n",
    "##### Data Loading and Exploration:\n",
    "We begin by loading a credit card transaction dataset, which is commonly prone to class imbalance due to the rarity of fraudulent transactions. We display a snippet of the dataset to provide an initial overview.\n",
    "\n",
    "##### Class Distribution Analysis:\n",
    "Understanding the class distribution is crucial. We analyse the distribution of the target variable 'Class' (fraudulent or not) and calculate the proportions of each class. Additionally, we compute the imbalance ratio to quantify the class imbalance.\n",
    "\n",
    "##### Random Under-Sampling:\n",
    "To address class imbalance, we employ random under-sampling. This technique reduces the majority class instances to create a balanced dataset. We carefully adjust the 'sampling_strategy' parameter to maintain a reasonable ratio between the two classes.\n",
    "\n",
    "##### Data Splitting:\n",
    "We split the resampled data into training and testing sets. This ensures that the model's performance is assessed on unseen data.\n",
    "\n",
    "##### Logistic Regression Model:\n",
    "A logistic regression model is trained on the balanced dataset. Logistic regression is a suitable choice due to its simplicity and interpretability.\n",
    "\n",
    "##### Model Evaluation:\n",
    "We predict the target variable using the test set and calculate the accuracy of the model. Accuracy provides a general idea of the model's performance.\n",
    "\n",
    "##### Receiver Operating Characteristic (ROC) Curve:\n",
    "The ROC curve illustrates the trade-off between true positive rate and false positive rate for different threshold values. We calculate the ROC curve and compute the area under the curve (AUC). A higher AUC indicates better model performance.\n",
    "\n",
    "##### Visualisation:\n",
    "We visualise the ROC curve, highlighting the model's performance in differentiating between the classes. The curve's shape and the AUC provide insights into the model's predictive ability."
   ]
  },
  {
   "cell_type": "markdown",
   "id": "1eadd78c",
   "metadata": {
    "papermill": {
     "duration": 0.004741,
     "end_time": "2023-08-28T16:35:56.786165",
     "exception": false,
     "start_time": "2023-08-28T16:35:56.781424",
     "status": "completed"
    },
    "tags": []
   },
   "source": [
    "### Importing the Libraries"
   ]
  },
  {
   "cell_type": "code",
   "execution_count": 1,
   "id": "11ef683c",
   "metadata": {
    "_cell_guid": "b1076dfc-b9ad-4769-8c92-a6c4dae69d19",
    "_uuid": "8f2839f25d086af736a60e9eeb907d3b93b6e0e5",
    "execution": {
     "iopub.execute_input": "2023-08-28T16:35:56.798272Z",
     "iopub.status.busy": "2023-08-28T16:35:56.797872Z",
     "iopub.status.idle": "2023-08-28T16:35:59.516142Z",
     "shell.execute_reply": "2023-08-28T16:35:59.514705Z"
    },
    "papermill": {
     "duration": 2.728074,
     "end_time": "2023-08-28T16:35:59.519385",
     "exception": false,
     "start_time": "2023-08-28T16:35:56.791311",
     "status": "completed"
    },
    "tags": []
   },
   "outputs": [
    {
     "name": "stderr",
     "output_type": "stream",
     "text": [
      "/opt/conda/lib/python3.10/site-packages/scipy/__init__.py:146: UserWarning: A NumPy version >=1.16.5 and <1.23.0 is required for this version of SciPy (detected version 1.23.5\n",
      "  warnings.warn(f\"A NumPy version >={np_minversion} and <{np_maxversion}\"\n"
     ]
    }
   ],
   "source": [
    "import pandas as pd\n",
    "import numpy as np\n",
    "import seaborn as sns\n",
    "import matplotlib.pyplot as plt\n",
    "from sklearn.model_selection import train_test_split\n",
    "from sklearn.linear_model import LogisticRegression\n",
    "from imblearn.under_sampling import RandomUnderSampler\n",
    "from sklearn.metrics import roc_curve, auc, accuracy_score"
   ]
  },
  {
   "cell_type": "markdown",
   "id": "73e5844c",
   "metadata": {
    "papermill": {
     "duration": 0.004994,
     "end_time": "2023-08-28T16:35:59.529954",
     "exception": false,
     "start_time": "2023-08-28T16:35:59.524960",
     "status": "completed"
    },
    "tags": []
   },
   "source": [
    "### Data Preprocessing"
   ]
  },
  {
   "cell_type": "code",
   "execution_count": 2,
   "id": "661cdf27",
   "metadata": {
    "execution": {
     "iopub.execute_input": "2023-08-28T16:35:59.543266Z",
     "iopub.status.busy": "2023-08-28T16:35:59.542009Z",
     "iopub.status.idle": "2023-08-28T16:36:05.414536Z",
     "shell.execute_reply": "2023-08-28T16:36:05.412971Z"
    },
    "papermill": {
     "duration": 5.882433,
     "end_time": "2023-08-28T16:36:05.417595",
     "exception": false,
     "start_time": "2023-08-28T16:35:59.535162",
     "status": "completed"
    },
    "tags": []
   },
   "outputs": [
    {
     "data": {
      "text/html": [
       "<div>\n",
       "<style scoped>\n",
       "    .dataframe tbody tr th:only-of-type {\n",
       "        vertical-align: middle;\n",
       "    }\n",
       "\n",
       "    .dataframe tbody tr th {\n",
       "        vertical-align: top;\n",
       "    }\n",
       "\n",
       "    .dataframe thead th {\n",
       "        text-align: right;\n",
       "    }\n",
       "</style>\n",
       "<table border=\"1\" class=\"dataframe\">\n",
       "  <thead>\n",
       "    <tr style=\"text-align: right;\">\n",
       "      <th></th>\n",
       "      <th>Time</th>\n",
       "      <th>V1</th>\n",
       "      <th>V2</th>\n",
       "      <th>V3</th>\n",
       "      <th>V4</th>\n",
       "      <th>V5</th>\n",
       "      <th>V6</th>\n",
       "      <th>V7</th>\n",
       "      <th>V8</th>\n",
       "      <th>V9</th>\n",
       "      <th>...</th>\n",
       "      <th>V21</th>\n",
       "      <th>V22</th>\n",
       "      <th>V23</th>\n",
       "      <th>V24</th>\n",
       "      <th>V25</th>\n",
       "      <th>V26</th>\n",
       "      <th>V27</th>\n",
       "      <th>V28</th>\n",
       "      <th>Amount</th>\n",
       "      <th>Class</th>\n",
       "    </tr>\n",
       "  </thead>\n",
       "  <tbody>\n",
       "    <tr>\n",
       "      <th>0</th>\n",
       "      <td>0.0</td>\n",
       "      <td>-1.359807</td>\n",
       "      <td>-0.072781</td>\n",
       "      <td>2.536347</td>\n",
       "      <td>1.378155</td>\n",
       "      <td>-0.338321</td>\n",
       "      <td>0.462388</td>\n",
       "      <td>0.239599</td>\n",
       "      <td>0.098698</td>\n",
       "      <td>0.363787</td>\n",
       "      <td>...</td>\n",
       "      <td>-0.018307</td>\n",
       "      <td>0.277838</td>\n",
       "      <td>-0.110474</td>\n",
       "      <td>0.066928</td>\n",
       "      <td>0.128539</td>\n",
       "      <td>-0.189115</td>\n",
       "      <td>0.133558</td>\n",
       "      <td>-0.021053</td>\n",
       "      <td>149.62</td>\n",
       "      <td>0</td>\n",
       "    </tr>\n",
       "    <tr>\n",
       "      <th>1</th>\n",
       "      <td>0.0</td>\n",
       "      <td>1.191857</td>\n",
       "      <td>0.266151</td>\n",
       "      <td>0.166480</td>\n",
       "      <td>0.448154</td>\n",
       "      <td>0.060018</td>\n",
       "      <td>-0.082361</td>\n",
       "      <td>-0.078803</td>\n",
       "      <td>0.085102</td>\n",
       "      <td>-0.255425</td>\n",
       "      <td>...</td>\n",
       "      <td>-0.225775</td>\n",
       "      <td>-0.638672</td>\n",
       "      <td>0.101288</td>\n",
       "      <td>-0.339846</td>\n",
       "      <td>0.167170</td>\n",
       "      <td>0.125895</td>\n",
       "      <td>-0.008983</td>\n",
       "      <td>0.014724</td>\n",
       "      <td>2.69</td>\n",
       "      <td>0</td>\n",
       "    </tr>\n",
       "    <tr>\n",
       "      <th>2</th>\n",
       "      <td>1.0</td>\n",
       "      <td>-1.358354</td>\n",
       "      <td>-1.340163</td>\n",
       "      <td>1.773209</td>\n",
       "      <td>0.379780</td>\n",
       "      <td>-0.503198</td>\n",
       "      <td>1.800499</td>\n",
       "      <td>0.791461</td>\n",
       "      <td>0.247676</td>\n",
       "      <td>-1.514654</td>\n",
       "      <td>...</td>\n",
       "      <td>0.247998</td>\n",
       "      <td>0.771679</td>\n",
       "      <td>0.909412</td>\n",
       "      <td>-0.689281</td>\n",
       "      <td>-0.327642</td>\n",
       "      <td>-0.139097</td>\n",
       "      <td>-0.055353</td>\n",
       "      <td>-0.059752</td>\n",
       "      <td>378.66</td>\n",
       "      <td>0</td>\n",
       "    </tr>\n",
       "    <tr>\n",
       "      <th>3</th>\n",
       "      <td>1.0</td>\n",
       "      <td>-0.966272</td>\n",
       "      <td>-0.185226</td>\n",
       "      <td>1.792993</td>\n",
       "      <td>-0.863291</td>\n",
       "      <td>-0.010309</td>\n",
       "      <td>1.247203</td>\n",
       "      <td>0.237609</td>\n",
       "      <td>0.377436</td>\n",
       "      <td>-1.387024</td>\n",
       "      <td>...</td>\n",
       "      <td>-0.108300</td>\n",
       "      <td>0.005274</td>\n",
       "      <td>-0.190321</td>\n",
       "      <td>-1.175575</td>\n",
       "      <td>0.647376</td>\n",
       "      <td>-0.221929</td>\n",
       "      <td>0.062723</td>\n",
       "      <td>0.061458</td>\n",
       "      <td>123.50</td>\n",
       "      <td>0</td>\n",
       "    </tr>\n",
       "    <tr>\n",
       "      <th>4</th>\n",
       "      <td>2.0</td>\n",
       "      <td>-1.158233</td>\n",
       "      <td>0.877737</td>\n",
       "      <td>1.548718</td>\n",
       "      <td>0.403034</td>\n",
       "      <td>-0.407193</td>\n",
       "      <td>0.095921</td>\n",
       "      <td>0.592941</td>\n",
       "      <td>-0.270533</td>\n",
       "      <td>0.817739</td>\n",
       "      <td>...</td>\n",
       "      <td>-0.009431</td>\n",
       "      <td>0.798278</td>\n",
       "      <td>-0.137458</td>\n",
       "      <td>0.141267</td>\n",
       "      <td>-0.206010</td>\n",
       "      <td>0.502292</td>\n",
       "      <td>0.219422</td>\n",
       "      <td>0.215153</td>\n",
       "      <td>69.99</td>\n",
       "      <td>0</td>\n",
       "    </tr>\n",
       "  </tbody>\n",
       "</table>\n",
       "<p>5 rows × 31 columns</p>\n",
       "</div>"
      ],
      "text/plain": [
       "   Time        V1        V2        V3        V4        V5        V6        V7  \\\n",
       "0   0.0 -1.359807 -0.072781  2.536347  1.378155 -0.338321  0.462388  0.239599   \n",
       "1   0.0  1.191857  0.266151  0.166480  0.448154  0.060018 -0.082361 -0.078803   \n",
       "2   1.0 -1.358354 -1.340163  1.773209  0.379780 -0.503198  1.800499  0.791461   \n",
       "3   1.0 -0.966272 -0.185226  1.792993 -0.863291 -0.010309  1.247203  0.237609   \n",
       "4   2.0 -1.158233  0.877737  1.548718  0.403034 -0.407193  0.095921  0.592941   \n",
       "\n",
       "         V8        V9  ...       V21       V22       V23       V24       V25  \\\n",
       "0  0.098698  0.363787  ... -0.018307  0.277838 -0.110474  0.066928  0.128539   \n",
       "1  0.085102 -0.255425  ... -0.225775 -0.638672  0.101288 -0.339846  0.167170   \n",
       "2  0.247676 -1.514654  ...  0.247998  0.771679  0.909412 -0.689281 -0.327642   \n",
       "3  0.377436 -1.387024  ... -0.108300  0.005274 -0.190321 -1.175575  0.647376   \n",
       "4 -0.270533  0.817739  ... -0.009431  0.798278 -0.137458  0.141267 -0.206010   \n",
       "\n",
       "        V26       V27       V28  Amount  Class  \n",
       "0 -0.189115  0.133558 -0.021053  149.62      0  \n",
       "1  0.125895 -0.008983  0.014724    2.69      0  \n",
       "2 -0.139097 -0.055353 -0.059752  378.66      0  \n",
       "3 -0.221929  0.062723  0.061458  123.50      0  \n",
       "4  0.502292  0.219422  0.215153   69.99      0  \n",
       "\n",
       "[5 rows x 31 columns]"
      ]
     },
     "execution_count": 2,
     "metadata": {},
     "output_type": "execute_result"
    }
   ],
   "source": [
    "df = pd.read_csv('/kaggle/input/creditcardfraud/creditcard.csv')\n",
    "df.head()"
   ]
  },
  {
   "cell_type": "code",
   "execution_count": 3,
   "id": "80e7b21d",
   "metadata": {
    "execution": {
     "iopub.execute_input": "2023-08-28T16:36:05.432436Z",
     "iopub.status.busy": "2023-08-28T16:36:05.431469Z",
     "iopub.status.idle": "2023-08-28T16:36:05.452427Z",
     "shell.execute_reply": "2023-08-28T16:36:05.450662Z"
    },
    "papermill": {
     "duration": 0.031999,
     "end_time": "2023-08-28T16:36:05.455797",
     "exception": false,
     "start_time": "2023-08-28T16:36:05.423798",
     "status": "completed"
    },
    "tags": []
   },
   "outputs": [
    {
     "name": "stdout",
     "output_type": "stream",
     "text": [
      "Class Distribution:\n",
      "0    284315\n",
      "1       492\n",
      "Name: Class, dtype: int64\n",
      "\n",
      "Class Proportions:\n",
      "0    0.998273\n",
      "1    0.001727\n",
      "Name: Class, dtype: float64\n",
      "\n",
      "Imbalance Ratio: 0.0017304750013189597\n"
     ]
    }
   ],
   "source": [
    "# Analyse class distribution and imbalance ratio\n",
    "class_distribution = df['Class'].value_counts()\n",
    "class_proportions = class_distribution / len(df)\n",
    "imbalance_ratio = class_distribution[1] / class_distribution[0]\n",
    "\n",
    "print(\"Class Distribution:\")\n",
    "print(class_distribution)\n",
    "print(\"\\nClass Proportions:\")\n",
    "print(class_proportions)\n",
    "print(\"\\nImbalance Ratio:\", imbalance_ratio)"
   ]
  },
  {
   "cell_type": "markdown",
   "id": "4c333bfc",
   "metadata": {
    "papermill": {
     "duration": 0.006001,
     "end_time": "2023-08-28T16:36:05.468291",
     "exception": false,
     "start_time": "2023-08-28T16:36:05.462290",
     "status": "completed"
    },
    "tags": []
   },
   "source": [
    "In our dataset, there are 284,315 samples belonging to the Class 0, while the Class 1 contains only 492 samples. This big difference in the number of samples suggests that there's an imbalance between the two classes, with the majority class being much more prevalent.\n",
    "If we look at the proportions, we see that Class 0 makes up nearly 99.83% of the entire dataset. On the other hand, Class 1 represents only about 0.17% of the dataset. Additionally,the imbalance ratio is approximately 0.00173. This low ratio indicates a considerable imbalance between the two classes."
   ]
  },
  {
   "cell_type": "code",
   "execution_count": 4,
   "id": "1d2c5d25",
   "metadata": {
    "execution": {
     "iopub.execute_input": "2023-08-28T16:36:05.482165Z",
     "iopub.status.busy": "2023-08-28T16:36:05.481142Z",
     "iopub.status.idle": "2023-08-28T16:36:05.630208Z",
     "shell.execute_reply": "2023-08-28T16:36:05.629181Z"
    },
    "papermill": {
     "duration": 0.158838,
     "end_time": "2023-08-28T16:36:05.632860",
     "exception": false,
     "start_time": "2023-08-28T16:36:05.474022",
     "status": "completed"
    },
    "tags": []
   },
   "outputs": [],
   "source": [
    "# Apply random under-sampling to balance the classes\n",
    "# Separate features (X) and target (y)\n",
    "X = df.drop('Class', axis=1)\n",
    "y = df['Class']\n",
    "\n",
    "# Apply Random Under Sampling\n",
    "rus = RandomUnderSampler(sampling_strategy=0.5)  # Adjust sampling_strategy as needed\n",
    "X_resampled, y_resampled = rus.fit_resample(X, y)"
   ]
  },
  {
   "cell_type": "code",
   "execution_count": 5,
   "id": "4abc7358",
   "metadata": {
    "execution": {
     "iopub.execute_input": "2023-08-28T16:36:05.648528Z",
     "iopub.status.busy": "2023-08-28T16:36:05.647847Z",
     "iopub.status.idle": "2023-08-28T16:36:05.658274Z",
     "shell.execute_reply": "2023-08-28T16:36:05.657074Z"
    },
    "papermill": {
     "duration": 0.024017,
     "end_time": "2023-08-28T16:36:05.664328",
     "exception": false,
     "start_time": "2023-08-28T16:36:05.640311",
     "status": "completed"
    },
    "tags": []
   },
   "outputs": [],
   "source": [
    "# Split the data into training and testing sets\n",
    "X_train, X_test, y_train, y_test = train_test_split(X_resampled,y_resampled, test_size=0.2, random_state=42)"
   ]
  },
  {
   "cell_type": "code",
   "execution_count": 6,
   "id": "5606f2f8",
   "metadata": {
    "execution": {
     "iopub.execute_input": "2023-08-28T16:36:05.678328Z",
     "iopub.status.busy": "2023-08-28T16:36:05.677879Z",
     "iopub.status.idle": "2023-08-28T16:36:05.739397Z",
     "shell.execute_reply": "2023-08-28T16:36:05.737860Z"
    },
    "papermill": {
     "duration": 0.073926,
     "end_time": "2023-08-28T16:36:05.744282",
     "exception": false,
     "start_time": "2023-08-28T16:36:05.670356",
     "status": "completed"
    },
    "tags": []
   },
   "outputs": [
    {
     "data": {
      "text/html": [
       "<style>#sk-container-id-1 {color: black;background-color: white;}#sk-container-id-1 pre{padding: 0;}#sk-container-id-1 div.sk-toggleable {background-color: white;}#sk-container-id-1 label.sk-toggleable__label {cursor: pointer;display: block;width: 100%;margin-bottom: 0;padding: 0.3em;box-sizing: border-box;text-align: center;}#sk-container-id-1 label.sk-toggleable__label-arrow:before {content: \"▸\";float: left;margin-right: 0.25em;color: #696969;}#sk-container-id-1 label.sk-toggleable__label-arrow:hover:before {color: black;}#sk-container-id-1 div.sk-estimator:hover label.sk-toggleable__label-arrow:before {color: black;}#sk-container-id-1 div.sk-toggleable__content {max-height: 0;max-width: 0;overflow: hidden;text-align: left;background-color: #f0f8ff;}#sk-container-id-1 div.sk-toggleable__content pre {margin: 0.2em;color: black;border-radius: 0.25em;background-color: #f0f8ff;}#sk-container-id-1 input.sk-toggleable__control:checked~div.sk-toggleable__content {max-height: 200px;max-width: 100%;overflow: auto;}#sk-container-id-1 input.sk-toggleable__control:checked~label.sk-toggleable__label-arrow:before {content: \"▾\";}#sk-container-id-1 div.sk-estimator input.sk-toggleable__control:checked~label.sk-toggleable__label {background-color: #d4ebff;}#sk-container-id-1 div.sk-label input.sk-toggleable__control:checked~label.sk-toggleable__label {background-color: #d4ebff;}#sk-container-id-1 input.sk-hidden--visually {border: 0;clip: rect(1px 1px 1px 1px);clip: rect(1px, 1px, 1px, 1px);height: 1px;margin: -1px;overflow: hidden;padding: 0;position: absolute;width: 1px;}#sk-container-id-1 div.sk-estimator {font-family: monospace;background-color: #f0f8ff;border: 1px dotted black;border-radius: 0.25em;box-sizing: border-box;margin-bottom: 0.5em;}#sk-container-id-1 div.sk-estimator:hover {background-color: #d4ebff;}#sk-container-id-1 div.sk-parallel-item::after {content: \"\";width: 100%;border-bottom: 1px solid gray;flex-grow: 1;}#sk-container-id-1 div.sk-label:hover label.sk-toggleable__label {background-color: #d4ebff;}#sk-container-id-1 div.sk-serial::before {content: \"\";position: absolute;border-left: 1px solid gray;box-sizing: border-box;top: 0;bottom: 0;left: 50%;z-index: 0;}#sk-container-id-1 div.sk-serial {display: flex;flex-direction: column;align-items: center;background-color: white;padding-right: 0.2em;padding-left: 0.2em;position: relative;}#sk-container-id-1 div.sk-item {position: relative;z-index: 1;}#sk-container-id-1 div.sk-parallel {display: flex;align-items: stretch;justify-content: center;background-color: white;position: relative;}#sk-container-id-1 div.sk-item::before, #sk-container-id-1 div.sk-parallel-item::before {content: \"\";position: absolute;border-left: 1px solid gray;box-sizing: border-box;top: 0;bottom: 0;left: 50%;z-index: -1;}#sk-container-id-1 div.sk-parallel-item {display: flex;flex-direction: column;z-index: 1;position: relative;background-color: white;}#sk-container-id-1 div.sk-parallel-item:first-child::after {align-self: flex-end;width: 50%;}#sk-container-id-1 div.sk-parallel-item:last-child::after {align-self: flex-start;width: 50%;}#sk-container-id-1 div.sk-parallel-item:only-child::after {width: 0;}#sk-container-id-1 div.sk-dashed-wrapped {border: 1px dashed gray;margin: 0 0.4em 0.5em 0.4em;box-sizing: border-box;padding-bottom: 0.4em;background-color: white;}#sk-container-id-1 div.sk-label label {font-family: monospace;font-weight: bold;display: inline-block;line-height: 1.2em;}#sk-container-id-1 div.sk-label-container {text-align: center;}#sk-container-id-1 div.sk-container {/* jupyter's `normalize.less` sets `[hidden] { display: none; }` but bootstrap.min.css set `[hidden] { display: none !important; }` so we also need the `!important` here to be able to override the default hidden behavior on the sphinx rendered scikit-learn.org. See: https://github.com/scikit-learn/scikit-learn/issues/21755 */display: inline-block !important;position: relative;}#sk-container-id-1 div.sk-text-repr-fallback {display: none;}</style><div id=\"sk-container-id-1\" class=\"sk-top-container\"><div class=\"sk-text-repr-fallback\"><pre>LogisticRegression()</pre><b>In a Jupyter environment, please rerun this cell to show the HTML representation or trust the notebook. <br />On GitHub, the HTML representation is unable to render, please try loading this page with nbviewer.org.</b></div><div class=\"sk-container\" hidden><div class=\"sk-item\"><div class=\"sk-estimator sk-toggleable\"><input class=\"sk-toggleable__control sk-hidden--visually\" id=\"sk-estimator-id-1\" type=\"checkbox\" checked><label for=\"sk-estimator-id-1\" class=\"sk-toggleable__label sk-toggleable__label-arrow\">LogisticRegression</label><div class=\"sk-toggleable__content\"><pre>LogisticRegression()</pre></div></div></div></div></div>"
      ],
      "text/plain": [
       "LogisticRegression()"
      ]
     },
     "execution_count": 6,
     "metadata": {},
     "output_type": "execute_result"
    }
   ],
   "source": [
    "# Train a logistic regression model\n",
    "log_model = LogisticRegression()\n",
    "log_model.fit(X_train, y_train)"
   ]
  },
  {
   "cell_type": "code",
   "execution_count": 7,
   "id": "336fbea5",
   "metadata": {
    "execution": {
     "iopub.execute_input": "2023-08-28T16:36:05.775919Z",
     "iopub.status.busy": "2023-08-28T16:36:05.775104Z",
     "iopub.status.idle": "2023-08-28T16:36:05.791968Z",
     "shell.execute_reply": "2023-08-28T16:36:05.790514Z"
    },
    "papermill": {
     "duration": 0.039286,
     "end_time": "2023-08-28T16:36:05.796340",
     "exception": false,
     "start_time": "2023-08-28T16:36:05.757054",
     "status": "completed"
    },
    "tags": []
   },
   "outputs": [
    {
     "name": "stdout",
     "output_type": "stream",
     "text": [
      "accuracy: 0.9628378378378378\n"
     ]
    }
   ],
   "source": [
    "# Make predictions on the test set and calculate accuracy\n",
    "y_pred = log_model.predict(X_test)\n",
    "accuracy = accuracy_score(y_test,y_pred)\n",
    "print(\"accuracy:\", accuracy)"
   ]
  },
  {
   "cell_type": "code",
   "execution_count": 8,
   "id": "cb1665ba",
   "metadata": {
    "execution": {
     "iopub.execute_input": "2023-08-28T16:36:05.826889Z",
     "iopub.status.busy": "2023-08-28T16:36:05.826166Z",
     "iopub.status.idle": "2023-08-28T16:36:06.212082Z",
     "shell.execute_reply": "2023-08-28T16:36:06.210703Z"
    },
    "papermill": {
     "duration": 0.404636,
     "end_time": "2023-08-28T16:36:06.214786",
     "exception": false,
     "start_time": "2023-08-28T16:36:05.810150",
     "status": "completed"
    },
    "tags": []
   },
   "outputs": [
    {
     "data": {
      "image/png": "[encoded data removed]",
      "text/plain": [
       "<Figure size 640x480 with 1 Axes>"
      ]
     },
     "metadata": {},
     "output_type": "display_data"
    }
   ],
   "source": [
    "# Calculate and plot ROC curve\n",
    "y_pred_prob = log_model.predict_proba(X_test)[:,1]\n",
    "fpr, tpr, threshold = roc_curve(y_test, y_pred_prob)\n",
    "roc_auc = auc(fpr, tpr)\n",
    "# Plot ROC curve\n",
    "plt.figure()\n",
    "plt.plot(fpr, tpr, color='darkorange', lw=2, label='ROC curve (area = %0.2f)' % roc_auc)\n",
    "plt.plot([0, 1], [0, 1], color='navy', lw=2, linestyle='--')\n",
    "plt.xlim([0.0, 1.0])\n",
    "plt.ylim([0.0, 1.05])\n",
    "plt.xlabel('False Positive Rate')\n",
    "plt.ylabel('True Positive Rate')\n",
    "plt.title('Receiver Operating Characteristic (ROC)')\n",
    "plt.legend(loc=\"lower right\")\n",
    "plt.show()"
   ]
  }
 ],
 "metadata": {
  "kernelspec": {
   "display_name": "Python 3",
   "language": "python",
   "name": "python3"
  },
  "language_info": {
   "codemirror_mode": {
    "name": "ipython",
    "version": 3
   },
   "file_extension": ".py",
   "mimetype": "text/x-python",
   "name": "python",
   "nbconvert_exporter": "python",
   "pygments_lexer": "ipython3",
   "version": "3.10.12"
  },
  "papermill": {
   "default_parameters": {},
   "duration": 24.078836,
   "end_time": "2023-08-28T16:36:07.548980",
   "environment_variables": {},
   "exception": null,
   "input_path": "__notebook__.ipynb",
   "output_path": "__notebook__.ipynb",
   "parameters": {},
   "start_time": "2023-08-28T16:35:43.470144",
   "version": "2.4.0"
  }
 },
 "nbformat": 4,
 "nbformat_minor": 5
}
